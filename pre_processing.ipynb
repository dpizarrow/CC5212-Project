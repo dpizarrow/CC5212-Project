{
 "cells": [
  {
   "cell_type": "code",
   "execution_count": 1,
   "id": "a90d6220",
   "metadata": {},
   "outputs": [],
   "source": [
    "import pandas as pd"
   ]
  },
  {
   "cell_type": "markdown",
   "id": "0befda97",
   "metadata": {},
   "source": [
    "## Load Raw Data"
   ]
  },
  {
   "cell_type": "code",
   "execution_count": 3,
   "id": "fff84b37",
   "metadata": {},
   "outputs": [],
   "source": [
    "albums = pd.read_csv('albums.csv', encoding = 'UTF-8')\n",
    "tracks = pd.read_csv('tracks.csv', encoding = 'UTF-8')\n",
    "r_track_artist = pd.read_csv('r_track_artist.csv', encoding = 'UTF-8')\n",
    "r_albums_track = pd.read_csv('r_albums_tracks.csv', encoding = 'UTF-8')\n",
    "artists = pd.read_csv('artists.csv', encoding = 'UTF-8')"
   ]
  },
  {
   "cell_type": "markdown",
   "id": "6ce94988",
   "metadata": {},
   "source": [
    "## Count null values for each table"
   ]
  },
  {
   "cell_type": "code",
   "execution_count": 4,
   "id": "1a4b0639",
   "metadata": {},
   "outputs": [
    {
     "data": {
      "text/plain": [
       "id                    0\n",
       "name               3653\n",
       "album_group     4820754\n",
       "album_type            0\n",
       "release_date          0\n",
       "popularity            0\n",
       "dtype: int64"
      ]
     },
     "execution_count": 4,
     "metadata": {},
     "output_type": "execute_result"
    }
   ],
   "source": [
    "albums.isna().sum()"
   ]
  },
  {
   "cell_type": "code",
   "execution_count": 6,
   "id": "4088cb66",
   "metadata": {},
   "outputs": [
    {
     "data": {
      "text/plain": [
       "id                        0\n",
       "disc_number               0\n",
       "duration                  0\n",
       "explicit                  0\n",
       "audio_feature_id        562\n",
       "name                   3966\n",
       "preview_url         2277559\n",
       "track_number              0\n",
       "popularity                0\n",
       "is_playable         8327872\n",
       "dtype: int64"
      ]
     },
     "execution_count": 6,
     "metadata": {},
     "output_type": "execute_result"
    }
   ],
   "source": [
    "tracks.isna().sum()"
   ]
  },
  {
   "cell_type": "code",
   "execution_count": 7,
   "id": "627b5842",
   "metadata": {},
   "outputs": [
    {
     "data": {
      "text/plain": [
       "track_id     0\n",
       "artist_id    0\n",
       "dtype: int64"
      ]
     },
     "execution_count": 7,
     "metadata": {},
     "output_type": "execute_result"
    }
   ],
   "source": [
    "r_track_artist.isna().sum()"
   ]
  },
  {
   "cell_type": "code",
   "execution_count": 8,
   "id": "76fc2c66",
   "metadata": {},
   "outputs": [
    {
     "data": {
      "text/plain": [
       "album_id    0\n",
       "track_id    0\n",
       "dtype: int64"
      ]
     },
     "execution_count": 8,
     "metadata": {},
     "output_type": "execute_result"
    }
   ],
   "source": [
    "r_albums_track.isna().sum()"
   ]
  },
  {
   "cell_type": "code",
   "execution_count": 9,
   "id": "aabb39a2",
   "metadata": {},
   "outputs": [
    {
     "data": {
      "text/plain": [
       "name          12\n",
       "id             0\n",
       "popularity     0\n",
       "followers      0\n",
       "dtype: int64"
      ]
     },
     "execution_count": 9,
     "metadata": {},
     "output_type": "execute_result"
    }
   ],
   "source": [
    "artists.isna().sum()"
   ]
  },
  {
   "cell_type": "markdown",
   "id": "c4260e11",
   "metadata": {},
   "source": [
    "## Drop null values"
   ]
  },
  {
   "cell_type": "code",
   "execution_count": 10,
   "id": "0127a542",
   "metadata": {},
   "outputs": [],
   "source": [
    "albums.dropna(inplace = True)\n",
    "tracks.dropna(inplace = True)\n",
    "r_track_artist.dropna(inplace = True)\n",
    "r_albums_track.dropna(inplace = True)\n",
    "artists.dropna(inplace = True)"
   ]
  },
  {
   "cell_type": "code",
   "execution_count": null,
   "id": "14feee9f",
   "metadata": {},
   "outputs": [],
   "source": [
    "albums.to_csv('albums.tsv', sep = '\\t')\n",
    "tracks.to_csv('tracks.tsv', sep = '\\t')\n",
    "r_track_artist.to_csv('r_track_artist.tsv', sep = '\\t')\n",
    "r_albums_track.to_csv('r_albums_tracks.tsv', sep = '\\t')\n",
    "artists.to_csv('artists.tsv', sep = '\\t')"
   ]
  },
  {
   "cell_type": "code",
   "execution_count": null,
   "id": "f85c87ba",
   "metadata": {},
   "outputs": [],
   "source": []
  }
 ],
 "metadata": {
  "kernelspec": {
   "display_name": "Python 3 (ipykernel)",
   "language": "python",
   "name": "python3"
  },
  "language_info": {
   "codemirror_mode": {
    "name": "ipython",
    "version": 3
   },
   "file_extension": ".py",
   "mimetype": "text/x-python",
   "name": "python",
   "nbconvert_exporter": "python",
   "pygments_lexer": "ipython3",
   "version": "3.10.0"
  }
 },
 "nbformat": 4,
 "nbformat_minor": 5
}

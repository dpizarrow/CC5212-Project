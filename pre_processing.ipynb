{
 "cells": [
  {
   "cell_type": "code",
   "execution_count": 36,
   "id": "a90d6220",
   "metadata": {},
   "outputs": [],
   "source": [
    "import pandas as pd\n",
    "import os \n",
    "from pathlib import Path"
   ]
  },
  {
   "cell_type": "markdown",
   "id": "1563682a",
   "metadata": {},
   "source": [
    "## Load Raw Data"
   ]
  },
  {
   "cell_type": "code",
   "execution_count": 38,
   "id": "fff84b37",
   "metadata": {},
   "outputs": [],
   "source": [
    "albums = pd.read_csv('raw_data/albums.csv', encoding = 'UTF-8')\n",
    "tracks = pd.read_csv('raw_data/tracks.csv', encoding = 'UTF-8')\n",
    "r_track_artist = pd.read_csv('raw_data/r_track_artist.csv', encoding = 'UTF-8')\n",
    "r_albums_track = pd.read_csv('raw_data/r_albums_tracks.csv', encoding = 'UTF-8')\n",
    "artists = pd.read_csv('raw_data/artists.csv', encoding = 'UTF-8')"
   ]
  },
  {
   "cell_type": "markdown",
   "id": "0dc84f8f",
   "metadata": {},
   "source": [
    "## Count null values for each table"
   ]
  },
  {
   "cell_type": "code",
   "execution_count": null,
   "id": "1a4b0639",
   "metadata": {},
   "outputs": [
    {
     "data": {
      "text/plain": [
       "id                    0\n",
       "name               3653\n",
       "album_group     4820754\n",
       "album_type            0\n",
       "release_date          0\n",
       "popularity            0\n",
       "dtype: int64"
      ]
     },
     "execution_count": 22,
     "metadata": {},
     "output_type": "execute_result"
    }
   ],
   "source": [
    "albums.isna().sum()"
   ]
  },
  {
   "cell_type": "code",
   "execution_count": null,
   "id": "4088cb66",
   "metadata": {},
   "outputs": [
    {
     "data": {
      "text/plain": [
       "id                        0\n",
       "disc_number               0\n",
       "duration                  0\n",
       "explicit                  0\n",
       "audio_feature_id        562\n",
       "name                   3966\n",
       "preview_url         2277559\n",
       "track_number              0\n",
       "popularity                0\n",
       "is_playable         8327872\n",
       "dtype: int64"
      ]
     },
     "execution_count": 23,
     "metadata": {},
     "output_type": "execute_result"
    }
   ],
   "source": [
    "tracks.isna().sum()"
   ]
  },
  {
   "cell_type": "code",
   "execution_count": null,
   "id": "627b5842",
   "metadata": {},
   "outputs": [
    {
     "data": {
      "text/plain": [
       "track_id     0\n",
       "artist_id    0\n",
       "dtype: int64"
      ]
     },
     "execution_count": 24,
     "metadata": {},
     "output_type": "execute_result"
    }
   ],
   "source": [
    "r_track_artist.isna().sum()"
   ]
  },
  {
   "cell_type": "code",
   "execution_count": null,
   "id": "76fc2c66",
   "metadata": {},
   "outputs": [
    {
     "data": {
      "text/plain": [
       "album_id    0\n",
       "track_id    0\n",
       "dtype: int64"
      ]
     },
     "execution_count": 25,
     "metadata": {},
     "output_type": "execute_result"
    }
   ],
   "source": [
    "r_albums_track.isna().sum()"
   ]
  },
  {
   "cell_type": "code",
   "execution_count": null,
   "id": "aabb39a2",
   "metadata": {},
   "outputs": [
    {
     "data": {
      "text/plain": [
       "name          12\n",
       "id             0\n",
       "popularity     0\n",
       "followers      0\n",
       "dtype: int64"
      ]
     },
     "execution_count": 26,
     "metadata": {},
     "output_type": "execute_result"
    }
   ],
   "source": [
    "artists.isna().sum()"
   ]
  },
  {
   "cell_type": "markdown",
   "id": "d1759e45",
   "metadata": {},
   "source": [
    "## Drop null values"
   ]
  },
  {
   "cell_type": "code",
   "execution_count": null,
   "id": "0127a542",
   "metadata": {},
   "outputs": [],
   "source": [
    "albums.drop('album_group', axis = 1, inplace = True)\n",
    "tracks.drop(['audio_feature_id', 'preview_url', 'is_playable'], axis = 1, inplace = True)\n",
    "albums.dropna(inplace = True)\n",
    "tracks.dropna(inplace = True)\n",
    "r_track_artist.dropna(inplace = True)\n",
    "r_albums_track.dropna(inplace = True)\n",
    "artists.dropna(inplace = True)"
   ]
  },
  {
   "cell_type": "markdown",
   "id": "c752a0da",
   "metadata": {},
   "source": [
    "## Write cleaned data to TSV files"
   ]
  },
  {
   "cell_type": "code",
   "execution_count": null,
   "id": "d8a37d45",
   "metadata": {},
   "outputs": [
    {
     "data": {
      "text/html": [
       "<div>\n",
       "<style scoped>\n",
       "    .dataframe tbody tr th:only-of-type {\n",
       "        vertical-align: middle;\n",
       "    }\n",
       "\n",
       "    .dataframe tbody tr th {\n",
       "        vertical-align: top;\n",
       "    }\n",
       "\n",
       "    .dataframe thead th {\n",
       "        text-align: right;\n",
       "    }\n",
       "</style>\n",
       "<table border=\"1\" class=\"dataframe\">\n",
       "  <thead>\n",
       "    <tr style=\"text-align: right;\">\n",
       "      <th></th>\n",
       "      <th>id</th>\n",
       "      <th>name</th>\n",
       "      <th>album_type</th>\n",
       "      <th>release_date</th>\n",
       "      <th>popularity</th>\n",
       "    </tr>\n",
       "  </thead>\n",
       "  <tbody>\n",
       "    <tr>\n",
       "      <th>0</th>\n",
       "      <td>2jKoVlU7VAmExKJ1Jh3w9P</td>\n",
       "      <td>Alkaholik (feat. Erik Sermon, J Ro &amp; Tash)</td>\n",
       "      <td>album</td>\n",
       "      <td>954633600000</td>\n",
       "      <td>0</td>\n",
       "    </tr>\n",
       "    <tr>\n",
       "      <th>1</th>\n",
       "      <td>4JYUDRtPZuVNi7FAnbHyux</td>\n",
       "      <td>Flava in Ya Ear Remix (feat. Notorious B.I.G.,...</td>\n",
       "      <td>single</td>\n",
       "      <td>757382400000</td>\n",
       "      <td>0</td>\n",
       "    </tr>\n",
       "    <tr>\n",
       "      <th>2</th>\n",
       "      <td>6YjKAkDYmlasMqYw73iB0w</td>\n",
       "      <td>Bitch Please II</td>\n",
       "      <td>album</td>\n",
       "      <td>959040000000</td>\n",
       "      <td>0</td>\n",
       "    </tr>\n",
       "    <tr>\n",
       "      <th>3</th>\n",
       "      <td>2YlvHjDb4Tyxl4A1IcDhAe</td>\n",
       "      <td>Just Dippin'</td>\n",
       "      <td>compilation</td>\n",
       "      <td>1104537600000</td>\n",
       "      <td>0</td>\n",
       "    </tr>\n",
       "    <tr>\n",
       "      <th>4</th>\n",
       "      <td>3UOuBNEin5peSRqdzvlnWM</td>\n",
       "      <td>Still D.R.E.</td>\n",
       "      <td>album</td>\n",
       "      <td>942710400000</td>\n",
       "      <td>0</td>\n",
       "    </tr>\n",
       "  </tbody>\n",
       "</table>\n",
       "</div>"
      ],
      "text/plain": [
       "                       id                                               name  \\\n",
       "0  2jKoVlU7VAmExKJ1Jh3w9P         Alkaholik (feat. Erik Sermon, J Ro & Tash)   \n",
       "1  4JYUDRtPZuVNi7FAnbHyux  Flava in Ya Ear Remix (feat. Notorious B.I.G.,...   \n",
       "2  6YjKAkDYmlasMqYw73iB0w                                    Bitch Please II   \n",
       "3  2YlvHjDb4Tyxl4A1IcDhAe                                       Just Dippin'   \n",
       "4  3UOuBNEin5peSRqdzvlnWM                                       Still D.R.E.   \n",
       "\n",
       "    album_type   release_date  popularity  \n",
       "0        album   954633600000           0  \n",
       "1       single   757382400000           0  \n",
       "2        album   959040000000           0  \n",
       "3  compilation  1104537600000           0  \n",
       "4        album   942710400000           0  "
      ]
     },
     "execution_count": 30,
     "metadata": {},
     "output_type": "execute_result"
    }
   ],
   "source": [
    "albums.head()"
   ]
  },
  {
   "cell_type": "code",
   "execution_count": null,
   "id": "cf055caf",
   "metadata": {},
   "outputs": [],
   "source": [
    "BASE = Path(os.getcwd())\n",
    "if not os.path.exists(BASE / \"cleaned\"):\n",
    "    os.mkdir(BASE/\"cleaned\")"
   ]
  },
  {
   "cell_type": "code",
   "execution_count": null,
   "id": "bc33a57b",
   "metadata": {},
   "outputs": [
    {
     "data": {
      "text/html": [
       "<div>\n",
       "<style scoped>\n",
       "    .dataframe tbody tr th:only-of-type {\n",
       "        vertical-align: middle;\n",
       "    }\n",
       "\n",
       "    .dataframe tbody tr th {\n",
       "        vertical-align: top;\n",
       "    }\n",
       "\n",
       "    .dataframe thead th {\n",
       "        text-align: right;\n",
       "    }\n",
       "</style>\n",
       "<table border=\"1\" class=\"dataframe\">\n",
       "  <thead>\n",
       "    <tr style=\"text-align: right;\">\n",
       "      <th></th>\n",
       "      <th>name</th>\n",
       "      <th>id</th>\n",
       "      <th>popularity</th>\n",
       "      <th>followers</th>\n",
       "    </tr>\n",
       "  </thead>\n",
       "  <tbody>\n",
       "    <tr>\n",
       "      <th>0</th>\n",
       "      <td>Xzibit</td>\n",
       "      <td>4tujQJicOnuZRLiBFdp3Ou</td>\n",
       "      <td>69</td>\n",
       "      <td>1193665</td>\n",
       "    </tr>\n",
       "    <tr>\n",
       "      <th>1</th>\n",
       "      <td>Erick Sermon</td>\n",
       "      <td>2VX0o9LDIVmKIgpnwdJpOJ</td>\n",
       "      <td>54</td>\n",
       "      <td>142007</td>\n",
       "    </tr>\n",
       "    <tr>\n",
       "      <th>2</th>\n",
       "      <td>J. Ro</td>\n",
       "      <td>3iBOsmwGzRKyR0vs2I61xP</td>\n",
       "      <td>45</td>\n",
       "      <td>158</td>\n",
       "    </tr>\n",
       "    <tr>\n",
       "      <th>3</th>\n",
       "      <td>Tash</td>\n",
       "      <td>22qf8cJRzBjIWb2Jc4JeOr</td>\n",
       "      <td>48</td>\n",
       "      <td>3421</td>\n",
       "    </tr>\n",
       "    <tr>\n",
       "      <th>4</th>\n",
       "      <td>Craig Mack</td>\n",
       "      <td>4akj4uteQQrrGxhX9Rjuyf</td>\n",
       "      <td>55</td>\n",
       "      <td>161966</td>\n",
       "    </tr>\n",
       "  </tbody>\n",
       "</table>\n",
       "</div>"
      ],
      "text/plain": [
       "           name                      id  popularity  followers\n",
       "0        Xzibit  4tujQJicOnuZRLiBFdp3Ou          69    1193665\n",
       "1  Erick Sermon  2VX0o9LDIVmKIgpnwdJpOJ          54     142007\n",
       "2         J. Ro  3iBOsmwGzRKyR0vs2I61xP          45        158\n",
       "3          Tash  22qf8cJRzBjIWb2Jc4JeOr          48       3421\n",
       "4    Craig Mack  4akj4uteQQrrGxhX9Rjuyf          55     161966"
      ]
     },
     "execution_count": 34,
     "metadata": {},
     "output_type": "execute_result"
    }
   ],
   "source": [
    "artists.head()\n"
   ]
  },
  {
   "cell_type": "code",
   "execution_count": 39,
   "id": "fda7ced4",
   "metadata": {},
   "outputs": [],
   "source": [
    "albums.to_csv('cleaned/albums.tsv', sep = '\\t')\n",
    "tracks.to_csv('cleaned/tracks.tsv', sep = '\\t')\n",
    "r_track_artist.to_csv('cleaned/r_track_artist.tsv', sep = '\\t')\n",
    "r_albums_track.to_csv('cleaned/r_albums_tracks.tsv', sep = '\\t')\n",
    "artists.to_csv('cleaned/artists.tsv', sep = '\\t')"
   ]
  }
 ],
 "metadata": {
  "kernelspec": {
   "display_name": "Python 3.10.4 ('Patos')",
   "language": "python",
   "name": "python3"
  },
  "language_info": {
   "codemirror_mode": {
    "name": "ipython",
    "version": 3
   },
   "file_extension": ".py",
   "mimetype": "text/x-python",
   "name": "python",
   "nbconvert_exporter": "python",
   "pygments_lexer": "ipython3",
   "version": "3.10.4"
  },
  "vscode": {
   "interpreter": {
    "hash": "a9f4f4b55b7fa3bba7a34d53401c23f207253156039bbb7096a2e8a81afedbf2"
   }
  }
 },
 "nbformat": 4,
 "nbformat_minor": 5
}

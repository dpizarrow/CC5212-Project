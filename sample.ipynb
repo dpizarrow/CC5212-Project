{
 "cells": [
  {
   "cell_type": "markdown",
   "metadata": {},
   "source": [
    "## Creation of sample dataset"
   ]
  },
  {
   "cell_type": "code",
   "execution_count": 3,
   "metadata": {},
   "outputs": [],
   "source": [
    "import pandas as pd\n",
    "from pathlib import Path\n",
    "import os"
   ]
  },
  {
   "cell_type": "code",
   "execution_count": 4,
   "metadata": {},
   "outputs": [],
   "source": [
    "\n",
    "\n",
    "artists = pd.read_csv(\"cleaned/artists.tsv\",sep = \"\\t\")\n",
    "r_tracks = pd.read_csv(\"cleaned/r_track_artist.tsv\",sep = \"\\t\")\n",
    "tracks = pd.read_csv(\"cleaned/tracks.tsv\",sep = \"\\t\")\n",
    "albums = pd.read_csv(\"cleaned/albums.tsv\",sep = \"\\t\")\n",
    "r_albums = pd.read_csv(\"cleaned/r_albums_tracks.tsv\",sep = \"\\t\")\n"
   ]
  },
  {
   "cell_type": "code",
   "execution_count": 5,
   "metadata": {},
   "outputs": [
    {
     "name": "stdout",
     "output_type": "stream",
     "text": [
      "name                 Michael Jackson\n",
      "id            3fMbdgg4jU18AjLCKBhRSm\n",
      "popularity                        86\n",
      "followers                   18029886\n",
      "Name: 4930, dtype: object\n",
      "name                       Bad Bunny\n",
      "id            4q3ewBCX7sLwd24euuV69X\n",
      "popularity                        98\n",
      "followers                   31863068\n",
      "Name: 13970, dtype: object\n",
      "name                     Frank Ocean\n",
      "id            2h93pZq0e7k5yf4dywlkpM\n",
      "popularity                         0\n",
      "followers                          0\n",
      "Name: 11426, dtype: object\n",
      "name                      Kanye West\n",
      "id            5K4W6rqBFWDnAN6FQUkS6x\n",
      "popularity                         0\n",
      "followers                          0\n",
      "Name: 5611, dtype: object\n",
      "name                     Limp Bizkit\n",
      "id            165ZgPlLkK7bf5bDoFc6Sb\n",
      "popularity                        75\n",
      "followers                    3910436\n",
      "Name: 7471, dtype: object\n",
      "name                       Sevendust\n",
      "id            35Uu85Pq33mK8x1jYqsHY2\n",
      "popularity                        60\n",
      "followers                     758687\n",
      "Name: 7496, dtype: object\n",
      "name                     Vanilla Ice\n",
      "id            7GXXMm3DB1VswVcuGyInUd\n",
      "popularity                        61\n",
      "followers                     320071\n",
      "Name: 6366, dtype: object\n"
     ]
    }
   ],
   "source": [
    "\n",
    "print(artists.iloc[4930]) #Michael Jackson)\n",
    "print(artists.iloc[13970]) #Bad Bunny)\n",
    "print(artists.iloc[11426] )#Frank Ocean)\n",
    "print(artists.iloc[5611]) #Kanye West)\n",
    "print(artists.iloc[7471]) #Frank Ocean)\n",
    "print(artists.iloc[7496]) #Clown)\n",
    "print(artists.iloc[6366])\n",
    "pick = [4930,13970,11426,5611,7471,7496,6366] #Numeor de columna de los artistas elegidos\n"
   ]
  },
  {
   "cell_type": "code",
   "execution_count": 6,
   "metadata": {},
   "outputs": [],
   "source": [
    "ids_artistas = [] \n",
    "for idx in pick:\n",
    "    ids_artistas.append(artists.iloc[idx].id)\n"
   ]
  },
  {
   "cell_type": "code",
   "execution_count": 7,
   "metadata": {},
   "outputs": [],
   "source": [
    "final_r_tracks = r_tracks[r_tracks.artist_id.isin(ids_artistas)]\n",
    "track_ids = final_r_tracks[\"track_id\"].tolist()\n",
    "final_r_albums = r_albums[r_albums.track_id.isin(track_ids)]\n",
    "albums_ids = final_r_albums[\"album_id\"].tolist()"
   ]
  },
  {
   "cell_type": "code",
   "execution_count": 8,
   "metadata": {},
   "outputs": [],
   "source": [
    "final_tracks = tracks[tracks.id.isin(track_ids)]\n",
    "final_artist = artists[artists.id.isin(ids_artistas)]\n",
    "final_albums = albums[albums.id.isin(albums_ids)]\n"
   ]
  },
  {
   "cell_type": "code",
   "execution_count": 9,
   "metadata": {},
   "outputs": [
    {
     "data": {
      "text/html": [
       "<div>\n",
       "<style scoped>\n",
       "    .dataframe tbody tr th:only-of-type {\n",
       "        vertical-align: middle;\n",
       "    }\n",
       "\n",
       "    .dataframe tbody tr th {\n",
       "        vertical-align: top;\n",
       "    }\n",
       "\n",
       "    .dataframe thead th {\n",
       "        text-align: right;\n",
       "    }\n",
       "</style>\n",
       "<table border=\"1\" class=\"dataframe\">\n",
       "  <thead>\n",
       "    <tr style=\"text-align: right;\">\n",
       "      <th></th>\n",
       "      <th>id</th>\n",
       "      <th>name</th>\n",
       "      <th>album_type</th>\n",
       "      <th>release_date</th>\n",
       "      <th>popularity</th>\n",
       "    </tr>\n",
       "  </thead>\n",
       "  <tbody>\n",
       "    <tr>\n",
       "      <th>3100</th>\n",
       "      <td>0F4XW0iBOhNFkbn1BuQ8cu</td>\n",
       "      <td>Got To Be There</td>\n",
       "      <td>album</td>\n",
       "      <td>65059200000</td>\n",
       "      <td>50</td>\n",
       "    </tr>\n",
       "    <tr>\n",
       "      <th>3114</th>\n",
       "      <td>3xo2soey9XEBI5DlmT4KlQ</td>\n",
       "      <td>Ben</td>\n",
       "      <td>album</td>\n",
       "      <td>81734400000</td>\n",
       "      <td>49</td>\n",
       "    </tr>\n",
       "    <tr>\n",
       "      <th>3876</th>\n",
       "      <td>2ZytN2cY4Zjrr9ukb2rqTP</td>\n",
       "      <td>Off the Wall</td>\n",
       "      <td>album</td>\n",
       "      <td>303091200000</td>\n",
       "      <td>76</td>\n",
       "    </tr>\n",
       "    <tr>\n",
       "      <th>4230</th>\n",
       "      <td>1C2h7mLntPSeVYciMRTF4a</td>\n",
       "      <td>Thriller 25 Super Deluxe Edition</td>\n",
       "      <td>album</td>\n",
       "      <td>407462400000</td>\n",
       "      <td>84</td>\n",
       "    </tr>\n",
       "    <tr>\n",
       "      <th>4277</th>\n",
       "      <td>2ANVost0y2y52ema1E9xAZ</td>\n",
       "      <td>Thriller</td>\n",
       "      <td>album</td>\n",
       "      <td>407462400000</td>\n",
       "      <td>68</td>\n",
       "    </tr>\n",
       "  </tbody>\n",
       "</table>\n",
       "</div>"
      ],
      "text/plain": [
       "                          id                              name album_type  \\\n",
       "3100  0F4XW0iBOhNFkbn1BuQ8cu                   Got To Be There      album   \n",
       "3114  3xo2soey9XEBI5DlmT4KlQ                               Ben      album   \n",
       "3876  2ZytN2cY4Zjrr9ukb2rqTP                      Off the Wall      album   \n",
       "4230  1C2h7mLntPSeVYciMRTF4a  Thriller 25 Super Deluxe Edition      album   \n",
       "4277  2ANVost0y2y52ema1E9xAZ                          Thriller      album   \n",
       "\n",
       "      release_date  popularity  \n",
       "3100   65059200000          50  \n",
       "3114   81734400000          49  \n",
       "3876  303091200000          76  \n",
       "4230  407462400000          84  \n",
       "4277  407462400000          68  "
      ]
     },
     "execution_count": 9,
     "metadata": {},
     "output_type": "execute_result"
    }
   ],
   "source": [
    "final_albums.head()"
   ]
  },
  {
   "cell_type": "code",
   "execution_count": 10,
   "metadata": {},
   "outputs": [
    {
     "data": {
      "text/html": [
       "<div>\n",
       "<style scoped>\n",
       "    .dataframe tbody tr th:only-of-type {\n",
       "        vertical-align: middle;\n",
       "    }\n",
       "\n",
       "    .dataframe tbody tr th {\n",
       "        vertical-align: top;\n",
       "    }\n",
       "\n",
       "    .dataframe thead th {\n",
       "        text-align: right;\n",
       "    }\n",
       "</style>\n",
       "<table border=\"1\" class=\"dataframe\">\n",
       "  <thead>\n",
       "    <tr style=\"text-align: right;\">\n",
       "      <th></th>\n",
       "      <th>id</th>\n",
       "      <th>disc_number</th>\n",
       "      <th>duration</th>\n",
       "      <th>explicit</th>\n",
       "      <th>name</th>\n",
       "      <th>track_number</th>\n",
       "      <th>popularity</th>\n",
       "    </tr>\n",
       "  </thead>\n",
       "  <tbody>\n",
       "    <tr>\n",
       "      <th>2797</th>\n",
       "      <td>0L0wNdB2KJjQrymVBkMnAq</td>\n",
       "      <td>1</td>\n",
       "      <td>309600</td>\n",
       "      <td>0</td>\n",
       "      <td>Heartbreaker</td>\n",
       "      <td>2</td>\n",
       "      <td>43</td>\n",
       "    </tr>\n",
       "    <tr>\n",
       "      <th>4538</th>\n",
       "      <td>0YPB8desC4cNwYOvr311KM</td>\n",
       "      <td>1</td>\n",
       "      <td>347346</td>\n",
       "      <td>1</td>\n",
       "      <td>Drive Slow (feat. Kanye West and GLC) - Screwe...</td>\n",
       "      <td>17</td>\n",
       "      <td>18</td>\n",
       "    </tr>\n",
       "    <tr>\n",
       "      <th>9313</th>\n",
       "      <td>3sNVsP50132BTNlImLx70i</td>\n",
       "      <td>1</td>\n",
       "      <td>229146</td>\n",
       "      <td>1</td>\n",
       "      <td>Bound 2</td>\n",
       "      <td>10</td>\n",
       "      <td>81</td>\n",
       "    </tr>\n",
       "    <tr>\n",
       "      <th>24775</th>\n",
       "      <td>1nGoy0cEj0extAwXYNYTWd</td>\n",
       "      <td>1</td>\n",
       "      <td>205546</td>\n",
       "      <td>1</td>\n",
       "      <td>Wouldn't Leave</td>\n",
       "      <td>4</td>\n",
       "      <td>64</td>\n",
       "    </tr>\n",
       "    <tr>\n",
       "      <th>40183</th>\n",
       "      <td>5h6EHy1GvTcGrpedGZCPHL</td>\n",
       "      <td>1</td>\n",
       "      <td>205026</td>\n",
       "      <td>0</td>\n",
       "      <td>Wings Of My Love</td>\n",
       "      <td>7</td>\n",
       "      <td>23</td>\n",
       "    </tr>\n",
       "  </tbody>\n",
       "</table>\n",
       "</div>"
      ],
      "text/plain": [
       "                           id  disc_number  duration  explicit  \\\n",
       "2797   0L0wNdB2KJjQrymVBkMnAq            1    309600         0   \n",
       "4538   0YPB8desC4cNwYOvr311KM            1    347346         1   \n",
       "9313   3sNVsP50132BTNlImLx70i            1    229146         1   \n",
       "24775  1nGoy0cEj0extAwXYNYTWd            1    205546         1   \n",
       "40183  5h6EHy1GvTcGrpedGZCPHL            1    205026         0   \n",
       "\n",
       "                                                    name  track_number  \\\n",
       "2797                                        Heartbreaker             2   \n",
       "4538   Drive Slow (feat. Kanye West and GLC) - Screwe...            17   \n",
       "9313                                             Bound 2            10   \n",
       "24775                                     Wouldn't Leave             4   \n",
       "40183                                   Wings Of My Love             7   \n",
       "\n",
       "       popularity  \n",
       "2797           43  \n",
       "4538           18  \n",
       "9313           81  \n",
       "24775          64  \n",
       "40183          23  "
      ]
     },
     "execution_count": 10,
     "metadata": {},
     "output_type": "execute_result"
    }
   ],
   "source": [
    "final_tracks.head()\n"
   ]
  },
  {
   "cell_type": "code",
   "execution_count": 11,
   "metadata": {},
   "outputs": [
    {
     "data": {
      "text/html": [
       "<div>\n",
       "<style scoped>\n",
       "    .dataframe tbody tr th:only-of-type {\n",
       "        vertical-align: middle;\n",
       "    }\n",
       "\n",
       "    .dataframe tbody tr th {\n",
       "        vertical-align: top;\n",
       "    }\n",
       "\n",
       "    .dataframe thead th {\n",
       "        text-align: right;\n",
       "    }\n",
       "</style>\n",
       "<table border=\"1\" class=\"dataframe\">\n",
       "  <thead>\n",
       "    <tr style=\"text-align: right;\">\n",
       "      <th></th>\n",
       "      <th>track_id</th>\n",
       "      <th>artist_id</th>\n",
       "    </tr>\n",
       "  </thead>\n",
       "  <tbody>\n",
       "    <tr>\n",
       "      <th>64990</th>\n",
       "      <td>5ou2nZT8UQJn1nuiUxAyjs</td>\n",
       "      <td>3fMbdgg4jU18AjLCKBhRSm</td>\n",
       "    </tr>\n",
       "    <tr>\n",
       "      <th>64991</th>\n",
       "      <td>3mnVgyzn5HC7Sqkn3B5zHs</td>\n",
       "      <td>3fMbdgg4jU18AjLCKBhRSm</td>\n",
       "    </tr>\n",
       "    <tr>\n",
       "      <th>64992</th>\n",
       "      <td>2laojQD1QCqjvmMn8lFlPk</td>\n",
       "      <td>3fMbdgg4jU18AjLCKBhRSm</td>\n",
       "    </tr>\n",
       "    <tr>\n",
       "      <th>64993</th>\n",
       "      <td>6m6WAwH7v59fGJQz2luaXN</td>\n",
       "      <td>3fMbdgg4jU18AjLCKBhRSm</td>\n",
       "    </tr>\n",
       "    <tr>\n",
       "      <th>64994</th>\n",
       "      <td>08QvVJT8y6b0i2nH9mUeMj</td>\n",
       "      <td>3fMbdgg4jU18AjLCKBhRSm</td>\n",
       "    </tr>\n",
       "  </tbody>\n",
       "</table>\n",
       "</div>"
      ],
      "text/plain": [
       "                     track_id               artist_id\n",
       "64990  5ou2nZT8UQJn1nuiUxAyjs  3fMbdgg4jU18AjLCKBhRSm\n",
       "64991  3mnVgyzn5HC7Sqkn3B5zHs  3fMbdgg4jU18AjLCKBhRSm\n",
       "64992  2laojQD1QCqjvmMn8lFlPk  3fMbdgg4jU18AjLCKBhRSm\n",
       "64993  6m6WAwH7v59fGJQz2luaXN  3fMbdgg4jU18AjLCKBhRSm\n",
       "64994  08QvVJT8y6b0i2nH9mUeMj  3fMbdgg4jU18AjLCKBhRSm"
      ]
     },
     "execution_count": 11,
     "metadata": {},
     "output_type": "execute_result"
    }
   ],
   "source": [
    "final_r_tracks.head()"
   ]
  },
  {
   "cell_type": "code",
   "execution_count": 12,
   "metadata": {},
   "outputs": [
    {
     "data": {
      "text/html": [
       "<div>\n",
       "<style scoped>\n",
       "    .dataframe tbody tr th:only-of-type {\n",
       "        vertical-align: middle;\n",
       "    }\n",
       "\n",
       "    .dataframe tbody tr th {\n",
       "        vertical-align: top;\n",
       "    }\n",
       "\n",
       "    .dataframe thead th {\n",
       "        text-align: right;\n",
       "    }\n",
       "</style>\n",
       "<table border=\"1\" class=\"dataframe\">\n",
       "  <thead>\n",
       "    <tr style=\"text-align: right;\">\n",
       "      <th></th>\n",
       "      <th>album_id</th>\n",
       "      <th>track_id</th>\n",
       "    </tr>\n",
       "  </thead>\n",
       "  <tbody>\n",
       "    <tr>\n",
       "      <th>47160</th>\n",
       "      <td>0F4XW0iBOhNFkbn1BuQ8cu</td>\n",
       "      <td>5ou2nZT8UQJn1nuiUxAyjs</td>\n",
       "    </tr>\n",
       "    <tr>\n",
       "      <th>47161</th>\n",
       "      <td>0F4XW0iBOhNFkbn1BuQ8cu</td>\n",
       "      <td>3mnVgyzn5HC7Sqkn3B5zHs</td>\n",
       "    </tr>\n",
       "    <tr>\n",
       "      <th>47162</th>\n",
       "      <td>0F4XW0iBOhNFkbn1BuQ8cu</td>\n",
       "      <td>2laojQD1QCqjvmMn8lFlPk</td>\n",
       "    </tr>\n",
       "    <tr>\n",
       "      <th>47163</th>\n",
       "      <td>0F4XW0iBOhNFkbn1BuQ8cu</td>\n",
       "      <td>6m6WAwH7v59fGJQz2luaXN</td>\n",
       "    </tr>\n",
       "    <tr>\n",
       "      <th>47164</th>\n",
       "      <td>0F4XW0iBOhNFkbn1BuQ8cu</td>\n",
       "      <td>08QvVJT8y6b0i2nH9mUeMj</td>\n",
       "    </tr>\n",
       "  </tbody>\n",
       "</table>\n",
       "</div>"
      ],
      "text/plain": [
       "                     album_id                track_id\n",
       "47160  0F4XW0iBOhNFkbn1BuQ8cu  5ou2nZT8UQJn1nuiUxAyjs\n",
       "47161  0F4XW0iBOhNFkbn1BuQ8cu  3mnVgyzn5HC7Sqkn3B5zHs\n",
       "47162  0F4XW0iBOhNFkbn1BuQ8cu  2laojQD1QCqjvmMn8lFlPk\n",
       "47163  0F4XW0iBOhNFkbn1BuQ8cu  6m6WAwH7v59fGJQz2luaXN\n",
       "47164  0F4XW0iBOhNFkbn1BuQ8cu  08QvVJT8y6b0i2nH9mUeMj"
      ]
     },
     "execution_count": 12,
     "metadata": {},
     "output_type": "execute_result"
    }
   ],
   "source": [
    "final_r_albums.head()"
   ]
  },
  {
   "cell_type": "code",
   "execution_count": 13,
   "metadata": {},
   "outputs": [
    {
     "data": {
      "text/html": [
       "<div>\n",
       "<style scoped>\n",
       "    .dataframe tbody tr th:only-of-type {\n",
       "        vertical-align: middle;\n",
       "    }\n",
       "\n",
       "    .dataframe tbody tr th {\n",
       "        vertical-align: top;\n",
       "    }\n",
       "\n",
       "    .dataframe thead th {\n",
       "        text-align: right;\n",
       "    }\n",
       "</style>\n",
       "<table border=\"1\" class=\"dataframe\">\n",
       "  <thead>\n",
       "    <tr style=\"text-align: right;\">\n",
       "      <th></th>\n",
       "      <th>name</th>\n",
       "      <th>id</th>\n",
       "      <th>popularity</th>\n",
       "      <th>followers</th>\n",
       "    </tr>\n",
       "  </thead>\n",
       "  <tbody>\n",
       "    <tr>\n",
       "      <th>4930</th>\n",
       "      <td>Michael Jackson</td>\n",
       "      <td>3fMbdgg4jU18AjLCKBhRSm</td>\n",
       "      <td>86</td>\n",
       "      <td>18029886</td>\n",
       "    </tr>\n",
       "    <tr>\n",
       "      <th>5611</th>\n",
       "      <td>Kanye West</td>\n",
       "      <td>5K4W6rqBFWDnAN6FQUkS6x</td>\n",
       "      <td>0</td>\n",
       "      <td>0</td>\n",
       "    </tr>\n",
       "    <tr>\n",
       "      <th>6366</th>\n",
       "      <td>Vanilla Ice</td>\n",
       "      <td>7GXXMm3DB1VswVcuGyInUd</td>\n",
       "      <td>61</td>\n",
       "      <td>320071</td>\n",
       "    </tr>\n",
       "    <tr>\n",
       "      <th>7471</th>\n",
       "      <td>Limp Bizkit</td>\n",
       "      <td>165ZgPlLkK7bf5bDoFc6Sb</td>\n",
       "      <td>75</td>\n",
       "      <td>3910436</td>\n",
       "    </tr>\n",
       "    <tr>\n",
       "      <th>7496</th>\n",
       "      <td>Sevendust</td>\n",
       "      <td>35Uu85Pq33mK8x1jYqsHY2</td>\n",
       "      <td>60</td>\n",
       "      <td>758687</td>\n",
       "    </tr>\n",
       "  </tbody>\n",
       "</table>\n",
       "</div>"
      ],
      "text/plain": [
       "                 name                      id  popularity  followers\n",
       "4930  Michael Jackson  3fMbdgg4jU18AjLCKBhRSm          86   18029886\n",
       "5611       Kanye West  5K4W6rqBFWDnAN6FQUkS6x           0          0\n",
       "6366      Vanilla Ice  7GXXMm3DB1VswVcuGyInUd          61     320071\n",
       "7471      Limp Bizkit  165ZgPlLkK7bf5bDoFc6Sb          75    3910436\n",
       "7496        Sevendust  35Uu85Pq33mK8x1jYqsHY2          60     758687"
      ]
     },
     "execution_count": 13,
     "metadata": {},
     "output_type": "execute_result"
    }
   ],
   "source": [
    "final_artist.head()"
   ]
  },
  {
   "cell_type": "code",
   "execution_count": 21,
   "metadata": {},
   "outputs": [],
   "source": [
    "#Now we create the new files.\n",
    "BASE = Path(os.getcwd())\n",
    "if not os.path.exists(BASE / \"sample\"):\n",
    "    os.mkdir(BASE/\"sample\")\n",
    "\n",
    "final_albums.to_csv('sample/albums.tsv', sep = '\\t',index = False)\n",
    "final_tracks.to_csv('sample/tracks.tsv', sep = '\\t',index = False)\n",
    "final_r_tracks.to_csv('sample/r_track_artist.tsv', sep = '\\t',index = False)\n",
    "final_r_albums.to_csv('sample/r_albums_tracks.tsv', sep = '\\t',index = False)\n",
    "final_artist.to_csv('sample/artists.tsv', sep = '\\t',index = False)"
   ]
  },
  {
   "cell_type": "code",
   "execution_count": 18,
   "metadata": {},
   "outputs": [],
   "source": [
    "zip_lambda = lambda val: tuple(val)"
   ]
  },
  {
   "cell_type": "code",
   "execution_count": 19,
   "metadata": {},
   "outputs": [
    {
     "data": {
      "text/plain": [
       "('hola', 'que')"
      ]
     },
     "execution_count": 19,
     "metadata": {},
     "output_type": "execute_result"
    }
   ],
   "source": [
    "zip_lambda([\"hola\",\"que\"])"
   ]
  }
 ],
 "metadata": {
  "kernelspec": {
   "display_name": "Python 3.10.4 ('Patos')",
   "language": "python",
   "name": "python3"
  },
  "language_info": {
   "codemirror_mode": {
    "name": "ipython",
    "version": 3
   },
   "file_extension": ".py",
   "mimetype": "text/x-python",
   "name": "python",
   "nbconvert_exporter": "python",
   "pygments_lexer": "ipython3",
   "version": "3.10.4"
  },
  "vscode": {
   "interpreter": {
    "hash": "a9f4f4b55b7fa3bba7a34d53401c23f207253156039bbb7096a2e8a81afedbf2"
   }
  }
 },
 "nbformat": 4,
 "nbformat_minor": 2
}

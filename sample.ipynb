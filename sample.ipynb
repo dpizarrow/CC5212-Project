{
 "cells": [
  {
   "cell_type": "markdown",
   "metadata": {},
   "source": [
    "## Creation of sample dataset"
   ]
  },
  {
   "cell_type": "code",
   "execution_count": 3,
   "metadata": {},
   "outputs": [],
   "source": [
    "import pandas as pd\n",
    "artists = pd.read_csv(\"cleaned/artists.tsv\",sep = \"\\t\")\n",
    "r_tracks = pd.read_csv(\"cleaned/r_track_artist.tsv\",sep = \"\\t\")\n",
    "tracks = pd.read_csv(\"cleaned/tracks.tsv\",sep = \"\\t\")\n",
    "albums = pd.read_csv(\"cleaned/albums.tsv\",sep = \"\\t\")\n",
    "r_albums = pd.read_csv(\"cleaned/r_albums_tracks.tsv\",sep = \"\\t\")\n"
   ]
  },
  {
   "cell_type": "code",
   "execution_count": 4,
   "metadata": {},
   "outputs": [
    {
     "name": "stdout",
     "output_type": "stream",
     "text": [
      "Unnamed: 0                      4930\n",
      "name                 Michael Jackson\n",
      "id            3fMbdgg4jU18AjLCKBhRSm\n",
      "popularity                        86\n",
      "followers                   18029886\n",
      "Name: 4930, dtype: object\n",
      "Unnamed: 0                     13970\n",
      "name                       Bad Bunny\n",
      "id            4q3ewBCX7sLwd24euuV69X\n",
      "popularity                        98\n",
      "followers                   31863068\n",
      "Name: 13970, dtype: object\n",
      "Unnamed: 0                     11426\n",
      "name                     Frank Ocean\n",
      "id            2h93pZq0e7k5yf4dywlkpM\n",
      "popularity                         0\n",
      "followers                          0\n",
      "Name: 11426, dtype: object\n",
      "Unnamed: 0                      5611\n",
      "name                      Kanye West\n",
      "id            5K4W6rqBFWDnAN6FQUkS6x\n",
      "popularity                         0\n",
      "followers                          0\n",
      "Name: 5611, dtype: object\n",
      "Unnamed: 0                      7471\n",
      "name                     Limp Bizkit\n",
      "id            165ZgPlLkK7bf5bDoFc6Sb\n",
      "popularity                        75\n",
      "followers                    3910436\n",
      "Name: 7471, dtype: object\n",
      "Unnamed: 0                      7496\n",
      "name                       Sevendust\n",
      "id            35Uu85Pq33mK8x1jYqsHY2\n",
      "popularity                        60\n",
      "followers                     758687\n",
      "Name: 7496, dtype: object\n",
      "Unnamed: 0                      6366\n",
      "name                     Vanilla Ice\n",
      "id            7GXXMm3DB1VswVcuGyInUd\n",
      "popularity                        61\n",
      "followers                     320071\n",
      "Name: 6366, dtype: object\n"
     ]
    }
   ],
   "source": [
    "\n",
    "print(artists.iloc[4930]) #Michael Jackson)\n",
    "print(artists.iloc[13970]) #Bad Bunny)\n",
    "print(artists.iloc[11426] )#Frank Ocean)\n",
    "print(artists.iloc[5611]) #Kanye West)\n",
    "print(artists.iloc[7471]) #Frank Ocean)\n",
    "print(artists.iloc[7496]) #Clown)\n",
    "print(artists.iloc[6366])\n",
    "pick = [4930,13970,11426,5611,7471,7496,6366] #Numeor de columna de los artistas elegidos\n"
   ]
  },
  {
   "cell_type": "code",
   "execution_count": 5,
   "metadata": {},
   "outputs": [],
   "source": [
    "ids_artistas = [] \n",
    "for idx in pick:\n",
    "    ids_artistas.append(artists.iloc[idx].id)\n"
   ]
  },
  {
   "cell_type": "code",
   "execution_count": 6,
   "metadata": {},
   "outputs": [],
   "source": [
    "final_r_tracks = r_tracks[r_tracks.artist_id.isin(ids_artistas)]\n",
    "track_ids = final_r_tracks[\"track_id\"].tolist()\n",
    "final_r_albums = r_albums[r_albums.track_id.isin(track_ids)]\n",
    "albums_ids = final_r_albums[\"album_id\"].tolist()"
   ]
  },
  {
   "cell_type": "code",
   "execution_count": 7,
   "metadata": {},
   "outputs": [],
   "source": [
    "final_tracks = tracks[tracks.id.isin(track_ids)]\n",
    "final_artist = artists[artists.id.isin(ids_artistas)]\n",
    "final_albums = albums[albums.id.isin(albums_ids)]\n"
   ]
  },
  {
   "cell_type": "code",
   "execution_count": 9,
   "metadata": {},
   "outputs": [],
   "source": [
    "#Now we create the new files.\n",
    "\n",
    "final_albums.to_csv('sample/albums.tsv', sep = '\\t')\n",
    "final_tracks.to_csv('sample/tracks.tsv', sep = '\\t')\n",
    "final_r_tracks.to_csv('sample/r_track_artist.tsv', sep = '\\t')\n",
    "final_r_albums.to_csv('sample/r_albums_tracks.tsv', sep = '\\t')\n",
    "final_artist.to_csv('sample/artists.tsv', sep = '\\t')"
   ]
  }
 ],
 "metadata": {
  "interpreter": {
   "hash": "c119e21d940af83c98764e1f066a12f03693ed416aef0824471b7966dfaf2856"
  },
  "kernelspec": {
   "display_name": "Python 3.8.5 ('base')",
   "language": "python",
   "name": "python3"
  },
  "language_info": {
   "codemirror_mode": {
    "name": "ipython",
    "version": 3
   },
   "file_extension": ".py",
   "mimetype": "text/x-python",
   "name": "python",
   "nbconvert_exporter": "python",
   "pygments_lexer": "ipython3",
   "version": "3.8.5"
  },
  "orig_nbformat": 4
 },
 "nbformat": 4,
 "nbformat_minor": 2
}
